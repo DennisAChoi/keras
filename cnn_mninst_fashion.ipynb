{
 "cells": [
  {
   "cell_type": "markdown",
   "metadata": {},
   "source": [
    "# CNN Basic( mnist/mninst_fashion )"
   ]
  },
  {
   "cell_type": "code",
   "execution_count": 1,
   "metadata": {},
   "outputs": [
    {
     "name": "stderr",
     "output_type": "stream",
     "text": [
      "Using TensorFlow backend.\n"
     ]
    }
   ],
   "source": [
    "from keras.models import Sequential\n",
    "from keras.datasets import (fashion_mnist, mnist)\n",
    "from keras.utils import to_categorical\n",
    "from keras.layers import (Conv2D, MaxPool2D, Flatten, Dense)"
   ]
  },
  {
   "cell_type": "code",
   "execution_count": 2,
   "metadata": {},
   "outputs": [],
   "source": [
    "# Mnist/Fashion Mnist 데이터 로드 및 학습/검증/테스트 feature set 생성\n",
    "def load_feature_set():\n",
    "    global train_input\n",
    "    global valid_input\n",
    "    global test_input\n",
    "    global train_label_onehot\n",
    "    global valid_label_onehot\n",
    "    global test_label_onehot\n",
    "    \n",
    "    (_train_input, _train_label), (test_input, test_label) = mnist.load_data()\n",
    "#     (_train_input, _train_label), (test_input, test_label) = fashion_mnist.load_data()\n",
    "    train_input = _train_input[0:50000,].reshape(-1, 28, 28, 1)\n",
    "    train_label_onehot = to_categorical(_train_label[0:50000,])\n",
    "    valid_input = _train_input[50000:60000,].reshape(-1, 28, 28, 1)\n",
    "    valid_label_onehot = to_categorical(_train_label[50000:60000,])\n",
    "    test_input = test_input.reshape(-1, 28, 28, 1)\n",
    "    test_label_onehot = to_categorical(test_label)\n",
    "       \n",
    "    print(train_input.shape, train_label_onehot.shape)\n",
    "    print(valid_input.shape, valid_label_onehot.shape)\n",
    "    print(test_input.shape, test_label_onehot.shape)"
   ]
  },
  {
   "cell_type": "code",
   "execution_count": 3,
   "metadata": {},
   "outputs": [],
   "source": [
    "# CNN모델 정의( Sequential )\n",
    "def make_and_compile_model():\n",
    "    global model\n",
    "    \n",
    "    model = Sequential()\n",
    "    # Conv2D = ( 필터갯수, 커널 사이즈 ), \n",
    "    # input_shape = 2D_x,2D_y, coler_space: (1:gray, 3:rgb, 4:rgba)\n",
    "    model.add(Conv2D(16,(3,3), activation='relu', padding='same', input_shape=(28, 28, 1,)))\n",
    "    model.add(MaxPool2D((2,2)))\n",
    "    model.add(Conv2D(32, (3,3), activation='relu', padding='valid'))\n",
    "    model.add(MaxPool2D((2,2)))\n",
    "    model.add(Flatten())\n",
    "    model.add(Dense(200, activation='relu'))\n",
    "    model.add(Dense(100, activation='relu'))\n",
    "    model.add(Dense(10, activation='softmax'))\n",
    "    model.summary()\n",
    "    \n",
    "    model.compile(\n",
    "        optimizer='adam', loss='categorical_crossentropy', metrics=['accuracy']\n",
    "    )  "
   ]
  },
  {
   "cell_type": "code",
   "execution_count": 6,
   "metadata": {},
   "outputs": [],
   "source": [
    "# CNN 모델학습 및 평가\n",
    "def learn_and_evaluate():\n",
    "    # 모델 학습 수행\n",
    "    model.fit(\n",
    "        train_input, train_label_onehot, batch_size=100, epochs=10, \n",
    "        validation_data=(valid_input, valid_label_onehot)\n",
    "    )\n",
    "    # 모델 평가\n",
    "    ret = model.evaluate(test_input, test_label_onehot)\n",
    "    print(ret)"
   ]
  },
  {
   "cell_type": "code",
   "execution_count": 7,
   "metadata": {},
   "outputs": [
    {
     "name": "stdout",
     "output_type": "stream",
     "text": [
      "(50000, 28, 28, 1) (50000, 10)\n",
      "(10000, 28, 28, 1) (10000, 10)\n",
      "(10000, 28, 28, 1) (10000, 10)\n",
      "_________________________________________________________________\n",
      "Layer (type)                 Output Shape              Param #   \n",
      "=================================================================\n",
      "conv2d_3 (Conv2D)            (None, 28, 28, 16)        160       \n",
      "_________________________________________________________________\n",
      "max_pooling2d_3 (MaxPooling2 (None, 14, 14, 16)        0         \n",
      "_________________________________________________________________\n",
      "conv2d_4 (Conv2D)            (None, 12, 12, 32)        4640      \n",
      "_________________________________________________________________\n",
      "max_pooling2d_4 (MaxPooling2 (None, 6, 6, 32)          0         \n",
      "_________________________________________________________________\n",
      "flatten_2 (Flatten)          (None, 1152)              0         \n",
      "_________________________________________________________________\n",
      "dense_4 (Dense)              (None, 200)               230600    \n",
      "_________________________________________________________________\n",
      "dense_5 (Dense)              (None, 100)               20100     \n",
      "_________________________________________________________________\n",
      "dense_6 (Dense)              (None, 10)                1010      \n",
      "=================================================================\n",
      "Total params: 256,510\n",
      "Trainable params: 256,510\n",
      "Non-trainable params: 0\n",
      "_________________________________________________________________\n",
      "Train on 50000 samples, validate on 10000 samples\n",
      "Epoch 1/10\n",
      "50000/50000 [==============================] - 11s 218us/step - loss: 1.3163 - acc: 0.8787 - val_loss: 0.1049 - val_acc: 0.9713\n",
      "Epoch 2/10\n",
      "50000/50000 [==============================] - 11s 212us/step - loss: 0.0616 - acc: 0.9815 - val_loss: 0.0765 - val_acc: 0.9772\n",
      "Epoch 3/10\n",
      "50000/50000 [==============================] - 11s 212us/step - loss: 0.0389 - acc: 0.9874 - val_loss: 0.0636 - val_acc: 0.9830\n",
      "Epoch 4/10\n",
      "50000/50000 [==============================] - 11s 212us/step - loss: 0.0311 - acc: 0.9899 - val_loss: 0.0596 - val_acc: 0.9839\n",
      "Epoch 5/10\n",
      "50000/50000 [==============================] - 11s 212us/step - loss: 0.0244 - acc: 0.9917 - val_loss: 0.0767 - val_acc: 0.9813\n",
      "Epoch 6/10\n",
      "50000/50000 [==============================] - 11s 213us/step - loss: 0.0263 - acc: 0.9913 - val_loss: 0.0787 - val_acc: 0.9821\n",
      "Epoch 7/10\n",
      "50000/50000 [==============================] - 11s 212us/step - loss: 0.0220 - acc: 0.9930 - val_loss: 0.0602 - val_acc: 0.9843\n",
      "Epoch 8/10\n",
      "50000/50000 [==============================] - 11s 212us/step - loss: 0.0176 - acc: 0.9945 - val_loss: 0.0512 - val_acc: 0.9888\n",
      "Epoch 9/10\n",
      "50000/50000 [==============================] - 11s 212us/step - loss: 0.0178 - acc: 0.9947 - val_loss: 0.0744 - val_acc: 0.9847\n",
      "Epoch 10/10\n",
      "50000/50000 [==============================] - 11s 212us/step - loss: 0.0186 - acc: 0.9944 - val_loss: 0.0786 - val_acc: 0.9825\n",
      "10000/10000 [==============================] - 1s 105us/step\n",
      "[0.064765478338812951, 0.98460000000000003]\n"
     ]
    }
   ],
   "source": [
    "# Main\n",
    "if __name__ == '__main__':\n",
    "    load_feature_set()\n",
    "    make_and_compile_model()\n",
    "    learn_and_evaluate()"
   ]
  },
  {
   "cell_type": "code",
   "execution_count": null,
   "metadata": {},
   "outputs": [],
   "source": []
  }
 ],
 "metadata": {
  "kernelspec": {
   "display_name": "Python 3",
   "language": "python",
   "name": "python3"
  },
  "language_info": {
   "codemirror_mode": {
    "name": "ipython",
    "version": 3
   },
   "file_extension": ".py",
   "mimetype": "text/x-python",
   "name": "python",
   "nbconvert_exporter": "python",
   "pygments_lexer": "ipython3",
   "version": "3.6.6"
  }
 },
 "nbformat": 4,
 "nbformat_minor": 2
}
